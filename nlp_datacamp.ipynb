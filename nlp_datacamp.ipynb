{
 "cells": [
  {
   "cell_type": "code",
   "execution_count": null,
   "metadata": {
    "collapsed": true
   },
   "outputs": [],
   "source": []
  },
  {
   "cell_type": "markdown",
   "metadata": {},
   "source": [
    "## Intro to Regex for string manipulation\n"
   ]
  },
  {
   "cell_type": "code",
   "execution_count": 36,
   "metadata": {
    "collapsed": true
   },
   "outputs": [],
   "source": [
    "# imports \n",
    "import re #regex"
   ]
  },
  {
   "cell_type": "code",
   "execution_count": 37,
   "metadata": {
    "collapsed": false
   },
   "outputs": [
    {
     "data": {
      "text/plain": [
       "<_sre.SRE_Match object; span=(0, 3), match='abc'>"
      ]
     },
     "execution_count": 37,
     "metadata": {},
     "output_type": "execute_result"
    }
   ],
   "source": [
    "# re.match matches pattern (abc) to string (abcdef)\n",
    "re.match('abc' ,'abcdef')"
   ]
  },
  {
   "cell_type": "code",
   "execution_count": 38,
   "metadata": {
    "collapsed": true
   },
   "outputs": [],
   "source": [
    "# re.match only works from start of string so below doesn't return anything\n",
    "re.match('bcd' ,'abcdef')"
   ]
  },
  {
   "cell_type": "code",
   "execution_count": 39,
   "metadata": {
    "collapsed": false
   },
   "outputs": [
    {
     "data": {
      "text/plain": [
       "<_sre.SRE_Match object; span=(1, 4), match='bcd'>"
      ]
     },
     "execution_count": 39,
     "metadata": {},
     "output_type": "execute_result"
    }
   ],
   "source": [
    "# re.search searches within the string\n",
    "re.search('bcd' ,'abcdef')"
   ]
  },
  {
   "cell_type": "code",
   "execution_count": 40,
   "metadata": {
    "collapsed": false
   },
   "outputs": [
    {
     "data": {
      "text/plain": [
       "<_sre.SRE_Match object; span=(0, 2), match='hi'>"
      ]
     },
     "execution_count": 40,
     "metadata": {},
     "output_type": "execute_result"
    }
   ],
   "source": [
    "# use regex to find words, will find first word\n",
    "word_regex = '\\w+'\n",
    "re.match(word_regex ,'hi there!')"
   ]
  },
  {
   "cell_type": "code",
   "execution_count": 41,
   "metadata": {
    "collapsed": false
   },
   "outputs": [
    {
     "data": {
      "text/plain": [
       "'\\n\\\\w+    (for words)\\n\\\\d     (for digits)\\n\\\\D     (no digits)\\n\\\\s     (for spaces)\\n\\\\S     (no spaces)\\n.*     (wildcard)\\n+      (greedy match)\\n*      (greedy match)\\n[a-z]  (groups lower case)\\n'"
      ]
     },
     "execution_count": 41,
     "metadata": {},
     "output_type": "execute_result"
    }
   ],
   "source": [
    "# other regex matching patterns\n",
    "'''\n",
    "\n",
    "\\            (escape charcter - tells regex what to look for)\n",
    "\\w+          (for words)\n",
    "\\d           (for digits)\n",
    "\\D           (no digits)\n",
    "\\s           (for spaces)\n",
    "\\S           (no spaces)\n",
    ".*           (wildcard)\n",
    "+            (greedy match)\n",
    "*            (greedy match)\n",
    "[]           (create an explicit character range)\n",
    "[a-z]        (range from a to z lower case)\n",
    "[A-Z]        (range from A to Z upper case)\n",
    "()           (define a group)\n",
    "|            (or)\n",
    "(\\w+|\\d+)    (words or digits)\n",
    "(\\s+|,)      (spaces or a comma)\n",
    "[A-Za-z\\-\\.] (A to Z, a to z, -, .)\n",
    "\n",
    "\n",
    "''' "
   ]
  },
  {
   "cell_type": "code",
   "execution_count": 42,
   "metadata": {
    "collapsed": false
   },
   "outputs": [
    {
     "data": {
      "text/plain": [
       "['Split', 'on', 'spaces']"
      ]
     },
     "execution_count": 42,
     "metadata": {},
     "output_type": "execute_result"
    }
   ],
   "source": [
    "# split on spaces will return strings woth no spaces\n",
    "re.split('\\s+', 'Split on spaces')"
   ]
  },
  {
   "cell_type": "code",
   "execution_count": 43,
   "metadata": {
    "collapsed": false
   },
   "outputs": [
    {
     "data": {
      "text/plain": [
       "['Let', 's', 'write', 'RegEx']"
      ]
     },
     "execution_count": 43,
     "metadata": {},
     "output_type": "execute_result"
    }
   ],
   "source": [
    "# let's find all the words\n",
    "my_string = \"Let's write RegEx!\"\n",
    "re.findall('\\w+', my_string)"
   ]
  },
  {
   "cell_type": "code",
   "execution_count": 44,
   "metadata": {
    "collapsed": false
   },
   "outputs": [
    {
     "name": "stdout",
     "output_type": "stream",
     "text": [
      "Let's write RegEx!  Won't that be fun?  I sure think so.  Can you find 4 sentences?  Or perhaps, all 19 words?\n"
     ]
    }
   ],
   "source": [
    "# something a bit more complex\n",
    "my_string = \"Let's write RegEx!  Won't that be fun?  I sure think so.  Can you find 4 sentences?  Or perhaps, all 19 words?\"\n",
    "print(my_string)"
   ]
  },
  {
   "cell_type": "code",
   "execution_count": 45,
   "metadata": {
    "collapsed": false
   },
   "outputs": [
    {
     "name": "stdout",
     "output_type": "stream",
     "text": [
      "[\"Let's write RegEx\", \"  Won't that be fun\", '  I sure think so', '  Can you find 4 sentences', '  Or perhaps, all 19 words', '']\n"
     ]
    }
   ],
   "source": [
    "# the r\"\" is useful so python can interpret the regex without having conflicts in any code\n",
    "\n",
    "# create matching patterns for how sentences end\n",
    "sentence_endings = r\"[.?!]\"\n",
    "\n",
    "# split out my_string where sentences end\n",
    "print(re.split(sentence_endings, my_string))"
   ]
  },
  {
   "cell_type": "code",
   "execution_count": 46,
   "metadata": {
    "collapsed": false
   },
   "outputs": [
    {
     "name": "stdout",
     "output_type": "stream",
     "text": [
      "['Let', 'RegEx', 'Won', 'Can', 'Or']\n"
     ]
    }
   ],
   "source": [
    "# Find all capitalized words in my_string and print the result\n",
    "capitalized_words = r\"[A-Z]\\w+\"\n",
    "print(re.findall(capitalized_words, my_string))"
   ]
  },
  {
   "cell_type": "code",
   "execution_count": 47,
   "metadata": {
    "collapsed": false
   },
   "outputs": [
    {
     "name": "stdout",
     "output_type": "stream",
     "text": [
      "[\"Let's\", 'write', 'RegEx!', \"Won't\", 'that', 'be', 'fun?', 'I', 'sure', 'think', 'so.', 'Can', 'you', 'find', '4', 'sentences?', 'Or', 'perhaps,', 'all', '19', 'words?']\n"
     ]
    }
   ],
   "source": [
    "# Split my_string on spaces and print the result\n",
    "spaces = r\"\\s+\"\n",
    "print(re.split(spaces, my_string))"
   ]
  },
  {
   "cell_type": "code",
   "execution_count": 48,
   "metadata": {
    "collapsed": false
   },
   "outputs": [
    {
     "name": "stdout",
     "output_type": "stream",
     "text": [
      "['4', '19']\n"
     ]
    }
   ],
   "source": [
    "# Find all digits in my_string and print the result\n",
    "digits = r\"\\d+\"\n",
    "print(re.findall(digits, my_string))"
   ]
  },
  {
   "cell_type": "markdown",
   "metadata": {},
   "source": [
    "## Tokenization\n",
    "### Turning string or doc into tokens (smaller parts)"
   ]
  },
  {
   "cell_type": "code",
   "execution_count": 49,
   "metadata": {
    "collapsed": true
   },
   "outputs": [],
   "source": [
    "# nltk: natural language toolkit\n",
    "'''\n",
    "might need to open terminal and run:\n",
    "\n",
    "python\n",
    "import nltk\n",
    "nltk.download()\n",
    "\n",
    "then in window that opens go to 'model' tab and install 'punkit'\n",
    "    \n",
    "'''\n",
    "from nltk.tokenize import word_tokenize"
   ]
  },
  {
   "cell_type": "code",
   "execution_count": 50,
   "metadata": {
    "collapsed": false
   },
   "outputs": [
    {
     "data": {
      "text/plain": [
       "['Hi', 'there', '!']"
      ]
     },
     "execution_count": 50,
     "metadata": {},
     "output_type": "execute_result"
    }
   ],
   "source": [
    "# work_tokenize will split out the sentance to it's word parts\n",
    "word_tokenize(\"Hi there!\")"
   ]
  },
  {
   "cell_type": "code",
   "execution_count": 51,
   "metadata": {
    "collapsed": false
   },
   "outputs": [
    {
     "data": {
      "text/plain": [
       "'\\nsent_tokenize   (tokenize document into sentences)\\nregex_tokenize  (tokenize string or doc based on regex)\\nTweetTokenizer  (just for tweets, hastags etc) \\n'"
      ]
     },
     "execution_count": 51,
     "metadata": {},
     "output_type": "execute_result"
    }
   ],
   "source": [
    "'''\n",
    "sent_tokenize   (tokenize document into sentences)\n",
    "regex_tokenize  (tokenize string or doc based on regex)\n",
    "TweetTokenizer  (just for tweets, hastags etc) \n",
    "'''"
   ]
  },
  {
   "cell_type": "code",
   "execution_count": 52,
   "metadata": {
    "collapsed": false
   },
   "outputs": [
    {
     "name": "stdout",
     "output_type": "stream",
     "text": [
      "SCENE 1: [wind] [clop clop clop] \n",
      "KING ARTHUR: Whoa there!  [clop clop clop] \n",
      "SOLDIER #1: Halt!  Who goes there?\n",
      "ARTHUR: It is I, Arthur, son of Uther Pendragon, from the castle of Camelot.  King of the Britons, defeator of the Saxons, sovereign of all England!\n",
      "SOLDIER #1: Pull the other one!\n",
      "ARTHUR: I am, ...  and this is my trusty servant Patsy.  We have ridden the length and breadth of the land in search of knights who will join me in my court at Camelot.  I must speak with your lord and master.\n",
      "SOLDIER #1: What?  Ridden on a horse?\n",
      "ARTHUR: Yes!\n",
      "SOLDIER #1: You're using coconuts!\n",
      "ARTHUR: What?\n",
      "SOLDIER #1: You've got two empty halves of coconut and you're bangin' 'em together.\n",
      "ARTHUR: So?  We have ridden since the snows of winter covered this land, through the kingdom of Mercea, through--\n",
      "SOLDIER #1: Where'd you get the coconuts?\n",
      "ARTHUR: We found them.\n",
      "SOLDIER #1: Found them?  In Mercea?  The coconut's tropical!\n",
      "ARTHUR: What do you mean?\n",
      "SOLDIER #1: Well, this is a temperate zone.\n",
      "ARTHUR: The swallow may fly south with the sun or the house martin or the plover may seek warmer climes in winter, yet these are not strangers to our land?\n",
      "SOLDIER #1: Are you suggesting coconuts migrate?\n",
      "ARTHUR: Not at all.  They could be carried.\n",
      "SOLDIER #1: What?  A swallow carrying a coconut?\n",
      "ARTHUR: It could grip it by the husk!\n",
      "SOLDIER #1: It's not a question of where he grips it!  It's a simple question of weight ratios!  A five ounce bird could not carry a one pound coconut.\n",
      "ARTHUR: Well, it doesn't matter.  Will you go and tell your master that Arthur from the Court of Camelot is here.\n",
      "SOLDIER #1: Listen.  In order to maintain air-speed velocity, a swallow needs to beat its wings forty-three times every second, right?\n",
      "ARTHUR: Please!\n",
      "SOLDIER #1: Am I right?\n",
      "ARTHUR: I'm not interested!\n",
      "SOLDIER #2: It could be carried by an African swallow!\n",
      "SOLDIER #1: Oh, yeah, an African swallow maybe, but not a European swallow.  That's my point.\n",
      "SOLDIER #2: Oh, yeah, I agree with that.\n",
      "ARTHUR: Will you ask your master if he wants to join my court at Camelot?!\n",
      "SOLDIER #1: But then of course a-- African swallows are non-migratory.\n",
      "SOLDIER #2: Oh, yeah...\n",
      "SOLDIER #1: So they couldn't bring a coconut back anyway...  [clop clop clop] \n",
      "SOLDIER #2: Wait a minute!  Supposing two swallows carried it together?\n",
      "SOLDIER #1: No, they'd have to have it on a line.\n",
      "SOLDIER #2: Well, simple!  They'd just use a strand of creeper!\n",
      "SOLDIER #1: What, held under the dorsal guiding feathers?\n",
      "SOLDIER #2: Well, why not?\n",
      "\n"
     ]
    }
   ],
   "source": [
    "# scene on of monty python to play around with :)\n",
    "scene_one = \"SCENE 1: [wind] [clop clop clop] \\nKING ARTHUR: Whoa there!  [clop clop clop] \\nSOLDIER #1: Halt!  Who goes there?\\nARTHUR: It is I, Arthur, son of Uther Pendragon, from the castle of Camelot.  King of the Britons, defeator of the Saxons, sovereign of all England!\\nSOLDIER #1: Pull the other one!\\nARTHUR: I am, ...  and this is my trusty servant Patsy.  We have ridden the length and breadth of the land in search of knights who will join me in my court at Camelot.  I must speak with your lord and master.\\nSOLDIER #1: What?  Ridden on a horse?\\nARTHUR: Yes!\\nSOLDIER #1: You're using coconuts!\\nARTHUR: What?\\nSOLDIER #1: You've got two empty halves of coconut and you're bangin' 'em together.\\nARTHUR: So?  We have ridden since the snows of winter covered this land, through the kingdom of Mercea, through--\\nSOLDIER #1: Where'd you get the coconuts?\\nARTHUR: We found them.\\nSOLDIER #1: Found them?  In Mercea?  The coconut's tropical!\\nARTHUR: What do you mean?\\nSOLDIER #1: Well, this is a temperate zone.\\nARTHUR: The swallow may fly south with the sun or the house martin or the plover may seek warmer climes in winter, yet these are not strangers to our land?\\nSOLDIER #1: Are you suggesting coconuts migrate?\\nARTHUR: Not at all.  They could be carried.\\nSOLDIER #1: What?  A swallow carrying a coconut?\\nARTHUR: It could grip it by the husk!\\nSOLDIER #1: It's not a question of where he grips it!  It's a simple question of weight ratios!  A five ounce bird could not carry a one pound coconut.\\nARTHUR: Well, it doesn't matter.  Will you go and tell your master that Arthur from the Court of Camelot is here.\\nSOLDIER #1: Listen.  In order to maintain air-speed velocity, a swallow needs to beat its wings forty-three times every second, right?\\nARTHUR: Please!\\nSOLDIER #1: Am I right?\\nARTHUR: I'm not interested!\\nSOLDIER #2: It could be carried by an African swallow!\\nSOLDIER #1: Oh, yeah, an African swallow maybe, but not a European swallow.  That's my point.\\nSOLDIER #2: Oh, yeah, I agree with that.\\nARTHUR: Will you ask your master if he wants to join my court at Camelot?!\\nSOLDIER #1: But then of course a-- African swallows are non-migratory.\\nSOLDIER #2: Oh, yeah...\\nSOLDIER #1: So they couldn't bring a coconut back anyway...  [clop clop clop] \\nSOLDIER #2: Wait a minute!  Supposing two swallows carried it together?\\nSOLDIER #1: No, they'd have to have it on a line.\\nSOLDIER #2: Well, simple!  They'd just use a strand of creeper!\\nSOLDIER #1: What, held under the dorsal guiding feathers?\\nSOLDIER #2: Well, why not?\\n\"\n",
    "print(scene_one)"
   ]
  },
  {
   "cell_type": "code",
   "execution_count": 53,
   "metadata": {
    "collapsed": true
   },
   "outputs": [],
   "source": [
    "# impport sentance tokenizer\n",
    "from nltk.tokenize import sent_tokenize"
   ]
  },
  {
   "cell_type": "code",
   "execution_count": 54,
   "metadata": {
    "collapsed": false
   },
   "outputs": [
    {
     "data": {
      "text/plain": [
       "['SCENE 1: [wind] [clop clop clop] \\nKING ARTHUR: Whoa there!',\n",
       " '[clop clop clop] \\nSOLDIER #1: Halt!',\n",
       " 'Who goes there?',\n",
       " 'ARTHUR: It is I, Arthur, son of Uther Pendragon, from the castle of Camelot.',\n",
       " 'King of the Britons, defeator of the Saxons, sovereign of all England!',\n",
       " 'SOLDIER #1: Pull the other one!',\n",
       " 'ARTHUR: I am, ...  and this is my trusty servant Patsy.',\n",
       " 'We have ridden the length and breadth of the land in search of knights who will join me in my court at Camelot.',\n",
       " 'I must speak with your lord and master.',\n",
       " 'SOLDIER #1: What?',\n",
       " 'Ridden on a horse?',\n",
       " 'ARTHUR: Yes!',\n",
       " \"SOLDIER #1: You're using coconuts!\",\n",
       " 'ARTHUR: What?',\n",
       " \"SOLDIER #1: You've got two empty halves of coconut and you're bangin' 'em together.\",\n",
       " 'ARTHUR: So?',\n",
       " \"We have ridden since the snows of winter covered this land, through the kingdom of Mercea, through--\\nSOLDIER #1: Where'd you get the coconuts?\",\n",
       " 'ARTHUR: We found them.',\n",
       " 'SOLDIER #1: Found them?',\n",
       " 'In Mercea?',\n",
       " \"The coconut's tropical!\",\n",
       " 'ARTHUR: What do you mean?',\n",
       " 'SOLDIER #1: Well, this is a temperate zone.',\n",
       " 'ARTHUR: The swallow may fly south with the sun or the house martin or the plover may seek warmer climes in winter, yet these are not strangers to our land?',\n",
       " 'SOLDIER #1: Are you suggesting coconuts migrate?',\n",
       " 'ARTHUR: Not at all.',\n",
       " 'They could be carried.',\n",
       " 'SOLDIER #1: What?',\n",
       " 'A swallow carrying a coconut?',\n",
       " 'ARTHUR: It could grip it by the husk!',\n",
       " \"SOLDIER #1: It's not a question of where he grips it!\",\n",
       " \"It's a simple question of weight ratios!\",\n",
       " 'A five ounce bird could not carry a one pound coconut.',\n",
       " \"ARTHUR: Well, it doesn't matter.\",\n",
       " 'Will you go and tell your master that Arthur from the Court of Camelot is here.',\n",
       " 'SOLDIER #1: Listen.',\n",
       " 'In order to maintain air-speed velocity, a swallow needs to beat its wings forty-three times every second, right?',\n",
       " 'ARTHUR: Please!',\n",
       " 'SOLDIER #1: Am I right?',\n",
       " \"ARTHUR: I'm not interested!\",\n",
       " 'SOLDIER #2: It could be carried by an African swallow!',\n",
       " 'SOLDIER #1: Oh, yeah, an African swallow maybe, but not a European swallow.',\n",
       " \"That's my point.\",\n",
       " 'SOLDIER #2: Oh, yeah, I agree with that.',\n",
       " 'ARTHUR: Will you ask your master if he wants to join my court at Camelot?!',\n",
       " 'SOLDIER #1: But then of course a-- African swallows are non-migratory.',\n",
       " 'SOLDIER #2: Oh, yeah...',\n",
       " \"SOLDIER #1: So they couldn't bring a coconut back anyway...  [clop clop clop] \\nSOLDIER #2: Wait a minute!\",\n",
       " 'Supposing two swallows carried it together?',\n",
       " \"SOLDIER #1: No, they'd have to have it on a line.\",\n",
       " 'SOLDIER #2: Well, simple!',\n",
       " \"They'd just use a strand of creeper!\",\n",
       " 'SOLDIER #1: What, held under the dorsal guiding feathers?',\n",
       " 'SOLDIER #2: Well, why not?']"
      ]
     },
     "execution_count": 54,
     "metadata": {},
     "output_type": "execute_result"
    }
   ],
   "source": [
    "# split out each sentence into tokens\n",
    "sent_tokenize(scene_one)"
   ]
  },
  {
   "cell_type": "code",
   "execution_count": 55,
   "metadata": {
    "collapsed": false
   },
   "outputs": [
    {
     "data": {
      "text/plain": [
       "'ARTHUR: It is I, Arthur, son of Uther Pendragon, from the castle of Camelot.'"
      ]
     },
     "execution_count": 55,
     "metadata": {},
     "output_type": "execute_result"
    }
   ],
   "source": [
    "# get the fourth sentence\n",
    "sent_tokenize(scene_one)[3]"
   ]
  },
  {
   "cell_type": "code",
   "execution_count": 56,
   "metadata": {
    "collapsed": false
   },
   "outputs": [
    {
     "data": {
      "text/plain": [
       "['ARTHUR',\n",
       " ':',\n",
       " 'It',\n",
       " 'is',\n",
       " 'I',\n",
       " ',',\n",
       " 'Arthur',\n",
       " ',',\n",
       " 'son',\n",
       " 'of',\n",
       " 'Uther',\n",
       " 'Pendragon',\n",
       " ',',\n",
       " 'from',\n",
       " 'the',\n",
       " 'castle',\n",
       " 'of',\n",
       " 'Camelot',\n",
       " '.']"
      ]
     },
     "execution_count": 56,
     "metadata": {},
     "output_type": "execute_result"
    }
   ],
   "source": [
    "# word tokenize the fourth sentence\n",
    "word_tokenize(sent_tokenize(scene_one)[3])"
   ]
  },
  {
   "cell_type": "code",
   "execution_count": 57,
   "metadata": {
    "collapsed": false
   },
   "outputs": [
    {
     "data": {
      "text/plain": [
       "['SCENE',\n",
       " '1',\n",
       " ':',\n",
       " '[',\n",
       " 'wind',\n",
       " ']',\n",
       " '[',\n",
       " 'clop',\n",
       " 'clop',\n",
       " 'clop',\n",
       " ']',\n",
       " 'KING',\n",
       " 'ARTHUR',\n",
       " ':',\n",
       " 'Whoa',\n",
       " 'there',\n",
       " '!',\n",
       " '[',\n",
       " 'clop',\n",
       " 'clop',\n",
       " 'clop',\n",
       " ']',\n",
       " 'SOLDIER',\n",
       " '#',\n",
       " '1',\n",
       " ':',\n",
       " 'Halt',\n",
       " '!',\n",
       " 'Who',\n",
       " 'goes',\n",
       " 'there',\n",
       " '?',\n",
       " 'ARTHUR',\n",
       " ':',\n",
       " 'It',\n",
       " 'is',\n",
       " 'I',\n",
       " ',',\n",
       " 'Arthur',\n",
       " ',',\n",
       " 'son',\n",
       " 'of',\n",
       " 'Uther',\n",
       " 'Pendragon',\n",
       " ',',\n",
       " 'from',\n",
       " 'the',\n",
       " 'castle',\n",
       " 'of',\n",
       " 'Camelot',\n",
       " '.',\n",
       " 'King',\n",
       " 'of',\n",
       " 'the',\n",
       " 'Britons',\n",
       " ',',\n",
       " 'defeator',\n",
       " 'of',\n",
       " 'the',\n",
       " 'Saxons',\n",
       " ',',\n",
       " 'sovereign',\n",
       " 'of',\n",
       " 'all',\n",
       " 'England',\n",
       " '!',\n",
       " 'SOLDIER',\n",
       " '#',\n",
       " '1',\n",
       " ':',\n",
       " 'Pull',\n",
       " 'the',\n",
       " 'other',\n",
       " 'one',\n",
       " '!',\n",
       " 'ARTHUR',\n",
       " ':',\n",
       " 'I',\n",
       " 'am',\n",
       " ',',\n",
       " '...',\n",
       " 'and',\n",
       " 'this',\n",
       " 'is',\n",
       " 'my',\n",
       " 'trusty',\n",
       " 'servant',\n",
       " 'Patsy',\n",
       " '.',\n",
       " 'We',\n",
       " 'have',\n",
       " 'ridden',\n",
       " 'the',\n",
       " 'length',\n",
       " 'and',\n",
       " 'breadth',\n",
       " 'of',\n",
       " 'the',\n",
       " 'land',\n",
       " 'in',\n",
       " 'search',\n",
       " 'of',\n",
       " 'knights',\n",
       " 'who',\n",
       " 'will',\n",
       " 'join',\n",
       " 'me',\n",
       " 'in',\n",
       " 'my',\n",
       " 'court',\n",
       " 'at',\n",
       " 'Camelot',\n",
       " '.',\n",
       " 'I',\n",
       " 'must',\n",
       " 'speak',\n",
       " 'with',\n",
       " 'your',\n",
       " 'lord',\n",
       " 'and',\n",
       " 'master',\n",
       " '.',\n",
       " 'SOLDIER',\n",
       " '#',\n",
       " '1',\n",
       " ':',\n",
       " 'What',\n",
       " '?',\n",
       " 'Ridden',\n",
       " 'on',\n",
       " 'a',\n",
       " 'horse',\n",
       " '?',\n",
       " 'ARTHUR',\n",
       " ':',\n",
       " 'Yes',\n",
       " '!',\n",
       " 'SOLDIER',\n",
       " '#',\n",
       " '1',\n",
       " ':',\n",
       " 'You',\n",
       " \"'re\",\n",
       " 'using',\n",
       " 'coconuts',\n",
       " '!',\n",
       " 'ARTHUR',\n",
       " ':',\n",
       " 'What',\n",
       " '?',\n",
       " 'SOLDIER',\n",
       " '#',\n",
       " '1',\n",
       " ':',\n",
       " 'You',\n",
       " \"'ve\",\n",
       " 'got',\n",
       " 'two',\n",
       " 'empty',\n",
       " 'halves',\n",
       " 'of',\n",
       " 'coconut',\n",
       " 'and',\n",
       " 'you',\n",
       " \"'re\",\n",
       " 'bangin',\n",
       " \"'\",\n",
       " \"'em\",\n",
       " 'together',\n",
       " '.',\n",
       " 'ARTHUR',\n",
       " ':',\n",
       " 'So',\n",
       " '?',\n",
       " 'We',\n",
       " 'have',\n",
       " 'ridden',\n",
       " 'since',\n",
       " 'the',\n",
       " 'snows',\n",
       " 'of',\n",
       " 'winter',\n",
       " 'covered',\n",
       " 'this',\n",
       " 'land',\n",
       " ',',\n",
       " 'through',\n",
       " 'the',\n",
       " 'kingdom',\n",
       " 'of',\n",
       " 'Mercea',\n",
       " ',',\n",
       " 'through',\n",
       " '--',\n",
       " 'SOLDIER',\n",
       " '#',\n",
       " '1',\n",
       " ':',\n",
       " 'Where',\n",
       " \"'d\",\n",
       " 'you',\n",
       " 'get',\n",
       " 'the',\n",
       " 'coconuts',\n",
       " '?',\n",
       " 'ARTHUR',\n",
       " ':',\n",
       " 'We',\n",
       " 'found',\n",
       " 'them',\n",
       " '.',\n",
       " 'SOLDIER',\n",
       " '#',\n",
       " '1',\n",
       " ':',\n",
       " 'Found',\n",
       " 'them',\n",
       " '?',\n",
       " 'In',\n",
       " 'Mercea',\n",
       " '?',\n",
       " 'The',\n",
       " 'coconut',\n",
       " \"'s\",\n",
       " 'tropical',\n",
       " '!',\n",
       " 'ARTHUR',\n",
       " ':',\n",
       " 'What',\n",
       " 'do',\n",
       " 'you',\n",
       " 'mean',\n",
       " '?',\n",
       " 'SOLDIER',\n",
       " '#',\n",
       " '1',\n",
       " ':',\n",
       " 'Well',\n",
       " ',',\n",
       " 'this',\n",
       " 'is',\n",
       " 'a',\n",
       " 'temperate',\n",
       " 'zone',\n",
       " '.',\n",
       " 'ARTHUR',\n",
       " ':',\n",
       " 'The',\n",
       " 'swallow',\n",
       " 'may',\n",
       " 'fly',\n",
       " 'south',\n",
       " 'with',\n",
       " 'the',\n",
       " 'sun',\n",
       " 'or',\n",
       " 'the',\n",
       " 'house',\n",
       " 'martin',\n",
       " 'or',\n",
       " 'the',\n",
       " 'plover',\n",
       " 'may',\n",
       " 'seek',\n",
       " 'warmer',\n",
       " 'climes',\n",
       " 'in',\n",
       " 'winter',\n",
       " ',',\n",
       " 'yet',\n",
       " 'these',\n",
       " 'are',\n",
       " 'not',\n",
       " 'strangers',\n",
       " 'to',\n",
       " 'our',\n",
       " 'land',\n",
       " '?',\n",
       " 'SOLDIER',\n",
       " '#',\n",
       " '1',\n",
       " ':',\n",
       " 'Are',\n",
       " 'you',\n",
       " 'suggesting',\n",
       " 'coconuts',\n",
       " 'migrate',\n",
       " '?',\n",
       " 'ARTHUR',\n",
       " ':',\n",
       " 'Not',\n",
       " 'at',\n",
       " 'all',\n",
       " '.',\n",
       " 'They',\n",
       " 'could',\n",
       " 'be',\n",
       " 'carried',\n",
       " '.',\n",
       " 'SOLDIER',\n",
       " '#',\n",
       " '1',\n",
       " ':',\n",
       " 'What',\n",
       " '?',\n",
       " 'A',\n",
       " 'swallow',\n",
       " 'carrying',\n",
       " 'a',\n",
       " 'coconut',\n",
       " '?',\n",
       " 'ARTHUR',\n",
       " ':',\n",
       " 'It',\n",
       " 'could',\n",
       " 'grip',\n",
       " 'it',\n",
       " 'by',\n",
       " 'the',\n",
       " 'husk',\n",
       " '!',\n",
       " 'SOLDIER',\n",
       " '#',\n",
       " '1',\n",
       " ':',\n",
       " 'It',\n",
       " \"'s\",\n",
       " 'not',\n",
       " 'a',\n",
       " 'question',\n",
       " 'of',\n",
       " 'where',\n",
       " 'he',\n",
       " 'grips',\n",
       " 'it',\n",
       " '!',\n",
       " 'It',\n",
       " \"'s\",\n",
       " 'a',\n",
       " 'simple',\n",
       " 'question',\n",
       " 'of',\n",
       " 'weight',\n",
       " 'ratios',\n",
       " '!',\n",
       " 'A',\n",
       " 'five',\n",
       " 'ounce',\n",
       " 'bird',\n",
       " 'could',\n",
       " 'not',\n",
       " 'carry',\n",
       " 'a',\n",
       " 'one',\n",
       " 'pound',\n",
       " 'coconut',\n",
       " '.',\n",
       " 'ARTHUR',\n",
       " ':',\n",
       " 'Well',\n",
       " ',',\n",
       " 'it',\n",
       " 'does',\n",
       " \"n't\",\n",
       " 'matter',\n",
       " '.',\n",
       " 'Will',\n",
       " 'you',\n",
       " 'go',\n",
       " 'and',\n",
       " 'tell',\n",
       " 'your',\n",
       " 'master',\n",
       " 'that',\n",
       " 'Arthur',\n",
       " 'from',\n",
       " 'the',\n",
       " 'Court',\n",
       " 'of',\n",
       " 'Camelot',\n",
       " 'is',\n",
       " 'here',\n",
       " '.',\n",
       " 'SOLDIER',\n",
       " '#',\n",
       " '1',\n",
       " ':',\n",
       " 'Listen',\n",
       " '.',\n",
       " 'In',\n",
       " 'order',\n",
       " 'to',\n",
       " 'maintain',\n",
       " 'air-speed',\n",
       " 'velocity',\n",
       " ',',\n",
       " 'a',\n",
       " 'swallow',\n",
       " 'needs',\n",
       " 'to',\n",
       " 'beat',\n",
       " 'its',\n",
       " 'wings',\n",
       " 'forty-three',\n",
       " 'times',\n",
       " 'every',\n",
       " 'second',\n",
       " ',',\n",
       " 'right',\n",
       " '?',\n",
       " 'ARTHUR',\n",
       " ':',\n",
       " 'Please',\n",
       " '!',\n",
       " 'SOLDIER',\n",
       " '#',\n",
       " '1',\n",
       " ':',\n",
       " 'Am',\n",
       " 'I',\n",
       " 'right',\n",
       " '?',\n",
       " 'ARTHUR',\n",
       " ':',\n",
       " 'I',\n",
       " \"'m\",\n",
       " 'not',\n",
       " 'interested',\n",
       " '!',\n",
       " 'SOLDIER',\n",
       " '#',\n",
       " '2',\n",
       " ':',\n",
       " 'It',\n",
       " 'could',\n",
       " 'be',\n",
       " 'carried',\n",
       " 'by',\n",
       " 'an',\n",
       " 'African',\n",
       " 'swallow',\n",
       " '!',\n",
       " 'SOLDIER',\n",
       " '#',\n",
       " '1',\n",
       " ':',\n",
       " 'Oh',\n",
       " ',',\n",
       " 'yeah',\n",
       " ',',\n",
       " 'an',\n",
       " 'African',\n",
       " 'swallow',\n",
       " 'maybe',\n",
       " ',',\n",
       " 'but',\n",
       " 'not',\n",
       " 'a',\n",
       " 'European',\n",
       " 'swallow',\n",
       " '.',\n",
       " 'That',\n",
       " \"'s\",\n",
       " 'my',\n",
       " 'point',\n",
       " '.',\n",
       " 'SOLDIER',\n",
       " '#',\n",
       " '2',\n",
       " ':',\n",
       " 'Oh',\n",
       " ',',\n",
       " 'yeah',\n",
       " ',',\n",
       " 'I',\n",
       " 'agree',\n",
       " 'with',\n",
       " 'that',\n",
       " '.',\n",
       " 'ARTHUR',\n",
       " ':',\n",
       " 'Will',\n",
       " 'you',\n",
       " 'ask',\n",
       " 'your',\n",
       " 'master',\n",
       " 'if',\n",
       " 'he',\n",
       " 'wants',\n",
       " 'to',\n",
       " 'join',\n",
       " 'my',\n",
       " 'court',\n",
       " 'at',\n",
       " 'Camelot',\n",
       " '?',\n",
       " '!',\n",
       " 'SOLDIER',\n",
       " '#',\n",
       " '1',\n",
       " ':',\n",
       " 'But',\n",
       " 'then',\n",
       " 'of',\n",
       " 'course',\n",
       " 'a',\n",
       " '--',\n",
       " 'African',\n",
       " 'swallows',\n",
       " 'are',\n",
       " 'non-migratory',\n",
       " '.',\n",
       " 'SOLDIER',\n",
       " '#',\n",
       " '2',\n",
       " ':',\n",
       " 'Oh',\n",
       " ',',\n",
       " 'yeah',\n",
       " '...',\n",
       " 'SOLDIER',\n",
       " '#',\n",
       " '1',\n",
       " ':',\n",
       " 'So',\n",
       " 'they',\n",
       " 'could',\n",
       " \"n't\",\n",
       " 'bring',\n",
       " 'a',\n",
       " 'coconut',\n",
       " 'back',\n",
       " 'anyway',\n",
       " '...',\n",
       " '[',\n",
       " 'clop',\n",
       " 'clop',\n",
       " 'clop',\n",
       " ']',\n",
       " 'SOLDIER',\n",
       " '#',\n",
       " '2',\n",
       " ':',\n",
       " 'Wait',\n",
       " 'a',\n",
       " 'minute',\n",
       " '!',\n",
       " 'Supposing',\n",
       " 'two',\n",
       " 'swallows',\n",
       " 'carried',\n",
       " 'it',\n",
       " 'together',\n",
       " '?',\n",
       " 'SOLDIER',\n",
       " '#',\n",
       " '1',\n",
       " ':',\n",
       " 'No',\n",
       " ',',\n",
       " 'they',\n",
       " \"'d\",\n",
       " 'have',\n",
       " 'to',\n",
       " 'have',\n",
       " 'it',\n",
       " 'on',\n",
       " 'a',\n",
       " 'line',\n",
       " '.',\n",
       " 'SOLDIER',\n",
       " '#',\n",
       " '2',\n",
       " ':',\n",
       " 'Well',\n",
       " ',',\n",
       " 'simple',\n",
       " '!',\n",
       " 'They',\n",
       " \"'d\",\n",
       " 'just',\n",
       " 'use',\n",
       " 'a',\n",
       " 'strand',\n",
       " 'of',\n",
       " 'creeper',\n",
       " '!',\n",
       " 'SOLDIER',\n",
       " '#',\n",
       " '1',\n",
       " ':',\n",
       " 'What',\n",
       " ',',\n",
       " 'held',\n",
       " 'under',\n",
       " 'the',\n",
       " 'dorsal',\n",
       " 'guiding',\n",
       " 'feathers',\n",
       " '?',\n",
       " 'SOLDIER',\n",
       " '#',\n",
       " '2',\n",
       " ':',\n",
       " 'Well',\n",
       " ',',\n",
       " 'why',\n",
       " 'not',\n",
       " '?']"
      ]
     },
     "execution_count": 57,
     "metadata": {},
     "output_type": "execute_result"
    }
   ],
   "source": [
    "# word tokenize the entire scene\n",
    "word_tokenize(scene_one)"
   ]
  },
  {
   "cell_type": "code",
   "execution_count": 58,
   "metadata": {
    "collapsed": false
   },
   "outputs": [
    {
     "data": {
      "text/plain": [
       "{'!',\n",
       " '#',\n",
       " \"'\",\n",
       " \"'d\",\n",
       " \"'em\",\n",
       " \"'m\",\n",
       " \"'re\",\n",
       " \"'s\",\n",
       " \"'ve\",\n",
       " ',',\n",
       " '--',\n",
       " '.',\n",
       " '...',\n",
       " '1',\n",
       " '2',\n",
       " ':',\n",
       " '?',\n",
       " 'A',\n",
       " 'ARTHUR',\n",
       " 'African',\n",
       " 'Am',\n",
       " 'Are',\n",
       " 'Arthur',\n",
       " 'Britons',\n",
       " 'But',\n",
       " 'Camelot',\n",
       " 'Court',\n",
       " 'England',\n",
       " 'European',\n",
       " 'Found',\n",
       " 'Halt',\n",
       " 'I',\n",
       " 'In',\n",
       " 'It',\n",
       " 'KING',\n",
       " 'King',\n",
       " 'Listen',\n",
       " 'Mercea',\n",
       " 'No',\n",
       " 'Not',\n",
       " 'Oh',\n",
       " 'Patsy',\n",
       " 'Pendragon',\n",
       " 'Please',\n",
       " 'Pull',\n",
       " 'Ridden',\n",
       " 'SCENE',\n",
       " 'SOLDIER',\n",
       " 'Saxons',\n",
       " 'So',\n",
       " 'Supposing',\n",
       " 'That',\n",
       " 'The',\n",
       " 'They',\n",
       " 'Uther',\n",
       " 'Wait',\n",
       " 'We',\n",
       " 'Well',\n",
       " 'What',\n",
       " 'Where',\n",
       " 'Who',\n",
       " 'Whoa',\n",
       " 'Will',\n",
       " 'Yes',\n",
       " 'You',\n",
       " '[',\n",
       " ']',\n",
       " 'a',\n",
       " 'agree',\n",
       " 'air-speed',\n",
       " 'all',\n",
       " 'am',\n",
       " 'an',\n",
       " 'and',\n",
       " 'anyway',\n",
       " 'are',\n",
       " 'ask',\n",
       " 'at',\n",
       " 'back',\n",
       " 'bangin',\n",
       " 'be',\n",
       " 'beat',\n",
       " 'bird',\n",
       " 'breadth',\n",
       " 'bring',\n",
       " 'but',\n",
       " 'by',\n",
       " 'carried',\n",
       " 'carry',\n",
       " 'carrying',\n",
       " 'castle',\n",
       " 'climes',\n",
       " 'clop',\n",
       " 'coconut',\n",
       " 'coconuts',\n",
       " 'could',\n",
       " 'course',\n",
       " 'court',\n",
       " 'covered',\n",
       " 'creeper',\n",
       " 'defeator',\n",
       " 'do',\n",
       " 'does',\n",
       " 'dorsal',\n",
       " 'empty',\n",
       " 'every',\n",
       " 'feathers',\n",
       " 'five',\n",
       " 'fly',\n",
       " 'forty-three',\n",
       " 'found',\n",
       " 'from',\n",
       " 'get',\n",
       " 'go',\n",
       " 'goes',\n",
       " 'got',\n",
       " 'grip',\n",
       " 'grips',\n",
       " 'guiding',\n",
       " 'halves',\n",
       " 'have',\n",
       " 'he',\n",
       " 'held',\n",
       " 'here',\n",
       " 'horse',\n",
       " 'house',\n",
       " 'husk',\n",
       " 'if',\n",
       " 'in',\n",
       " 'interested',\n",
       " 'is',\n",
       " 'it',\n",
       " 'its',\n",
       " 'join',\n",
       " 'just',\n",
       " 'kingdom',\n",
       " 'knights',\n",
       " 'land',\n",
       " 'length',\n",
       " 'line',\n",
       " 'lord',\n",
       " 'maintain',\n",
       " 'martin',\n",
       " 'master',\n",
       " 'matter',\n",
       " 'may',\n",
       " 'maybe',\n",
       " 'me',\n",
       " 'mean',\n",
       " 'migrate',\n",
       " 'minute',\n",
       " 'must',\n",
       " 'my',\n",
       " \"n't\",\n",
       " 'needs',\n",
       " 'non-migratory',\n",
       " 'not',\n",
       " 'of',\n",
       " 'on',\n",
       " 'one',\n",
       " 'or',\n",
       " 'order',\n",
       " 'other',\n",
       " 'ounce',\n",
       " 'our',\n",
       " 'plover',\n",
       " 'point',\n",
       " 'pound',\n",
       " 'question',\n",
       " 'ratios',\n",
       " 'ridden',\n",
       " 'right',\n",
       " 'search',\n",
       " 'second',\n",
       " 'seek',\n",
       " 'servant',\n",
       " 'simple',\n",
       " 'since',\n",
       " 'snows',\n",
       " 'son',\n",
       " 'south',\n",
       " 'sovereign',\n",
       " 'speak',\n",
       " 'strand',\n",
       " 'strangers',\n",
       " 'suggesting',\n",
       " 'sun',\n",
       " 'swallow',\n",
       " 'swallows',\n",
       " 'tell',\n",
       " 'temperate',\n",
       " 'that',\n",
       " 'the',\n",
       " 'them',\n",
       " 'then',\n",
       " 'there',\n",
       " 'these',\n",
       " 'they',\n",
       " 'this',\n",
       " 'through',\n",
       " 'times',\n",
       " 'to',\n",
       " 'together',\n",
       " 'tropical',\n",
       " 'trusty',\n",
       " 'two',\n",
       " 'under',\n",
       " 'use',\n",
       " 'using',\n",
       " 'velocity',\n",
       " 'wants',\n",
       " 'warmer',\n",
       " 'weight',\n",
       " 'where',\n",
       " 'who',\n",
       " 'why',\n",
       " 'will',\n",
       " 'wind',\n",
       " 'wings',\n",
       " 'winter',\n",
       " 'with',\n",
       " 'yeah',\n",
       " 'yet',\n",
       " 'you',\n",
       " 'your',\n",
       " 'zone'}"
      ]
     },
     "execution_count": 58,
     "metadata": {},
     "output_type": "execute_result"
    }
   ],
   "source": [
    "# reducd it to a unique list but using set()\n",
    "set(word_tokenize(scene_one))"
   ]
  },
  {
   "cell_type": "code",
   "execution_count": 59,
   "metadata": {
    "collapsed": false
   },
   "outputs": [
    {
     "name": "stdout",
     "output_type": "stream",
     "text": [
      "609\n",
      "226\n"
     ]
    }
   ],
   "source": [
    "# check the difference in sizes\n",
    "print(len(word_tokenize(scene_one)))\n",
    "print(len(set(word_tokenize(scene_one))))"
   ]
  },
  {
   "cell_type": "code",
   "execution_count": 69,
   "metadata": {
    "collapsed": false
   },
   "outputs": [
    {
     "name": "stdout",
     "output_type": "stream",
     "text": [
      "580 588\n"
     ]
    }
   ],
   "source": [
    "# save for the first instance of the word coconuts then print location\n",
    "cocoloco = re.search(\"coconuts\", scene_one)\n",
    "print(cocoloco.start(), cocoloco.end())"
   ]
  },
  {
   "cell_type": "markdown",
   "metadata": {},
   "source": [
    "## Some Advanced Tokenization with Regex"
   ]
  },
  {
   "cell_type": "code",
   "execution_count": 70,
   "metadata": {
    "collapsed": false
   },
   "outputs": [
    {
     "data": {
      "text/plain": [
       "<_sre.SRE_Match object; span=(9, 32), match='[wind] [clop clop clop]'>"
      ]
     },
     "execution_count": 70,
     "metadata": {},
     "output_type": "execute_result"
    }
   ],
   "source": [
    "# search for first anything in a square bracket\n",
    "    #start     \\[\n",
    "    #wildcard  .*\n",
    "    #end .     \\]\n",
    "    \n",
    "re.search(r\"\\[.*\\]\", scene_one)"
   ]
  },
  {
   "cell_type": "code",
   "execution_count": 71,
   "metadata": {
    "collapsed": false
   },
   "outputs": [
    {
     "data": {
      "text/plain": [
       "['He', 'has', '11', 'cats']"
      ]
     },
     "execution_count": 71,
     "metadata": {},
     "output_type": "execute_result"
    }
   ],
   "source": [
    "# lets match all words and digits but remove punctuation using or\n",
    "    #digits   \\d+ \n",
    "    #or       |\n",
    "    #words    \\w+\n",
    "    \n",
    "re.findall(r\"\\d+|\\w+\", 'He!, has 11 cats.')"
   ]
  },
  {
   "cell_type": "code",
   "execution_count": 72,
   "metadata": {
    "collapsed": false
   },
   "outputs": [
    {
     "data": {
      "text/plain": [
       "<_sre.SRE_Match object; span=(0, 1), match='h'>"
      ]
     },
     "execution_count": 72,
     "metadata": {},
     "output_type": "execute_result"
    }
   ],
   "source": [
    "# match stops at first letter\n",
    "re.match(r\"[a-z0-9 ]\", 'holy cow 11, purple nuts')"
   ]
  },
  {
   "cell_type": "code",
   "execution_count": 74,
   "metadata": {
    "collapsed": false
   },
   "outputs": [
    {
     "data": {
      "text/plain": [
       "<_sre.SRE_Match object; span=(0, 11), match='holy cow 11'>"
      ]
     },
     "execution_count": 74,
     "metadata": {},
     "output_type": "execute_result"
    }
   ],
   "source": [
    "# include a plus and is travel till it stops at comma as comma is not defined\n",
    "    # notice a space after 9\n",
    "re.match(r\"[a-z0-9 ]+\", 'holy cow 11, purple nuts')"
   ]
  },
  {
   "cell_type": "code",
   "execution_count": 75,
   "metadata": {
    "collapsed": false
   },
   "outputs": [
    {
     "data": {
      "text/plain": [
       "<_sre.SRE_Match object; span=(0, 24), match='holy cow 11, purple nuts'>"
      ]
     },
     "execution_count": 75,
     "metadata": {},
     "output_type": "execute_result"
    }
   ],
   "source": [
    "# now all is returned\n",
    "re.match(r\"[a-z0-9, ]+\", 'holy cow 11, purple nuts')"
   ]
  },
  {
   "cell_type": "code",
   "execution_count": null,
   "metadata": {
    "collapsed": true
   },
   "outputs": [],
   "source": []
  }
 ],
 "metadata": {
  "kernelspec": {
   "display_name": "Python 3",
   "language": "python",
   "name": "python3"
  },
  "language_info": {
   "codemirror_mode": {
    "name": "ipython",
    "version": 3
   },
   "file_extension": ".py",
   "mimetype": "text/x-python",
   "name": "python",
   "nbconvert_exporter": "python",
   "pygments_lexer": "ipython3",
   "version": "3.6.0"
  }
 },
 "nbformat": 4,
 "nbformat_minor": 2
}
